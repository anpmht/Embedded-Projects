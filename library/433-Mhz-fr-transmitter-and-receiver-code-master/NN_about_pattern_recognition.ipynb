{
  "nbformat": 4,
  "nbformat_minor": 0,
  "metadata": {
    "colab": {
      "name": "NN_about_pattern_recognition.ipynb",
      "provenance": [],
      "collapsed_sections": [],
      "authorship_tag": "ABX9TyNuqKYs6Z4lraNAoVGjAOnL",
      "include_colab_link": true
    },
    "kernelspec": {
      "name": "python3",
      "display_name": "Python 3"
    }
  },
  "cells": [
    {
      "cell_type": "markdown",
      "metadata": {
        "id": "view-in-github",
        "colab_type": "text"
      },
      "source": [
        "<a href=\"https://colab.research.google.com/github/anpmht/433-Mhz-fr-transmitter-and-receiver-code/blob/master/NN_about_pattern_recognition.ipynb\" target=\"_parent\"><img src=\"https://colab.research.google.com/assets/colab-badge.svg\" alt=\"Open In Colab\"/></a>"
      ]
    },
    {
      "cell_type": "code",
      "metadata": {
        "id": "hSiuiY4TP4nl",
        "outputId": "5f8858cb-fd6e-4a79-b449-075ab9c74f3f",
        "colab": {
          "base_uri": "https://localhost:8080/"
        }
      },
      "source": [
        "import numpy as np\n",
        "\n",
        "class NeuralNetwork():\n",
        "\n",
        "  def __init__(self):\n",
        "    np.random.seed(1)\n",
        "    self.synaptic_weights = 2 * np.random.random((3,1)) -1\n",
        "\n",
        "  def sigmoid(self, x):\n",
        "    return 1/(1 + np.exp(-x))\n",
        "\n",
        "  def sigmoid_derivatie(self ,x):\n",
        "    return x *(1 - x)\n",
        "  \n",
        "  def train(self, training_inputs, training_outputs, training_iterations):\n",
        "    \n",
        "    for iterations in range(training_iterations):\n",
        "\n",
        "      outputs = self.think(training_inputs)\n",
        "      error = training_outputs - outputs\n",
        "      adjustment  = np.dot(training_inputs.T, error * self.sigmoid_derivatie(outputs))\n",
        "      self.synaptic_weights += adjustment\n",
        "    \n",
        "  def think(self,inputs):\n",
        "\n",
        "     inputs = inputs.astype(float)\n",
        "     outputs = self.sigmoid(np.dot(inputs, self.synaptic_weights))\n",
        "     return outputs\n",
        "    \n",
        "if  __name__ == \"__main__\":\n",
        "  neural_network = NeuralNetwork()\n",
        "  print('rsndom synaptic Weights :')\n",
        "  print(neural_network.synaptic_weights)\n",
        "\n",
        "  training_inputs = np.array([\n",
        "                              [0,0,1],\n",
        "                              [1,1,1],\n",
        "                              [1,0,1],\n",
        "                              [0,1,1]])\n",
        "  training_outputs = np.array([[0,1,1,0]])\n",
        "\n",
        "  neural_network.train(training_inputs, training_outputs.T, 10000)\n",
        "\n",
        "  print ('syanptic Weight after training')\n",
        "  print(neural_network.synaptic_weights)\n",
        "\n",
        "  A = str(input(\"input 1:\"))\n",
        "  B = str(input(\"input 2:\"))\n",
        "  C = str(input(\"input 3:\"))\n",
        "\n",
        "  print(\"new situation : input data :\", A, B, C)\n",
        "  print(\"output data :\")\n",
        "  print(neural_network.think(np.array([A, B, C])))\n",
        "  "
      ],
      "execution_count": 11,
      "outputs": [
        {
          "output_type": "stream",
          "text": [
            "rsndom synaptic Weights :\n",
            "[[-0.16595599]\n",
            " [ 0.44064899]\n",
            " [-0.99977125]]\n",
            "syanptic Weight after training\n",
            "[[ 9.67299303]\n",
            " [-0.2078435 ]\n",
            " [-4.62963669]]\n",
            "input 1:0\n",
            "input 2:1\n",
            "input 3:1\n",
            "new situation : input data : 0 1 1\n",
            "output data :\n",
            "[0.00786466]\n"
          ],
          "name": "stdout"
        }
      ]
    }
  ]
}