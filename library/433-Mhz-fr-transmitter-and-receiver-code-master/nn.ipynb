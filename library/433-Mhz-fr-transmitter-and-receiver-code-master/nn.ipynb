{
  "nbformat": 4,
  "nbformat_minor": 0,
  "metadata": {
    "colab": {
      "name": "nn.ipynb",
      "provenance": [],
      "collapsed_sections": [],
      "authorship_tag": "ABX9TyOklX1cWLCTxyVnUsG74Psr",
      "include_colab_link": true
    },
    "kernelspec": {
      "name": "python3",
      "display_name": "Python 3"
    }
  },
  "cells": [
    {
      "cell_type": "markdown",
      "metadata": {
        "id": "view-in-github",
        "colab_type": "text"
      },
      "source": [
        "<a href=\"https://colab.research.google.com/github/anpmht/433-Mhz-fr-transmitter-and-receiver-code/blob/master/nn.ipynb\" target=\"_parent\"><img src=\"https://colab.research.google.com/assets/colab-badge.svg\" alt=\"Open In Colab\"/></a>"
      ]
    },
    {
      "cell_type": "code",
      "metadata": {
        "id": "q4X5vNOm89c9"
      },
      "source": [
        "import numpy as np\n",
        "def sigmoid(x):\n",
        "  return 1/(1 + np.exp(-x))\n",
        "\n",
        "def sigmoid_derivative(x):\n",
        "  return x*(1-x)\n",
        "\n",
        "training_data = np.array([[1,1,0],\n",
        "                         [1,0,1],\n",
        "                         [0,1,1]])\n",
        "training_output = np.array([[1,1,0]]).T"
      ],
      "execution_count": 27,
      "outputs": []
    },
    {
      "cell_type": "code",
      "metadata": {
        "id": "7B10-hPkAGw_",
        "outputId": "0e33a3f5-d31f-48fd-b38f-42617cb1153e",
        "colab": {
          "base_uri": "https://localhost:8080/"
        }
      },
      "source": [
        "\n",
        "np.random.seed(1)\n",
        "\n",
        "synaptic_weight = 2 * np.random.random((3,1)) - 1\n",
        "print(synaptic_weight)\n",
        "for iteration in range(100000):\n",
        "  input_layer = training_data\n",
        "  outputs = sigmoid(np.dot(input_layer,synaptic_weight))\n",
        "  error = training_output - outputs\n",
        "  adjustments = error * sigmoid_derivative(outputs)\n",
        "  synaptic_weight += np.dot(input_layer.T, adjustments)\n",
        "\n",
        "print('synaptic weights after training :')\n",
        "print(synaptic_weight)\n",
        "\n",
        "print('outputs after training :')\n",
        "print(outputs)\n"
      ],
      "execution_count": 30,
      "outputs": [
        {
          "output_type": "stream",
          "text": [
            "[[-0.16595599]\n",
            " [ 0.44064899]\n",
            " [-0.99977125]]\n",
            "synaptic weights after training :\n",
            "[[ 9.23285869]\n",
            " [-2.99181096]\n",
            " [-2.99249701]]\n",
            "outputs after training :\n",
            "[[0.99805596]\n",
            " [0.99805463]\n",
            " [0.00251164]\n",
            " [0.5       ]]\n"
          ],
          "name": "stdout"
        }
      ]
    },
    {
      "cell_type": "code",
      "metadata": {
        "id": "-5DzuXRMAi4b"
      },
      "source": [
        ""
      ],
      "execution_count": null,
      "outputs": []
    }
  ]
}